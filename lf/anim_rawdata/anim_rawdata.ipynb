{
 "cells": [
  {
   "cell_type": "code",
   "execution_count": 2,
   "id": "ce9e47be",
   "metadata": {},
   "outputs": [
    {
     "name": "stderr",
     "output_type": "stream",
     "text": [
      "DEBUG      2025-06-27 17:06:36,459 [388102471.py:71] [Activate workspace]: c:\\Users\\okaza\\pythonenv\\lf\\anim_rawdata\n",
      "DEBUG      2025-06-27 17:06:36,461 [388102471.py:72] [Set cache]: c:\\Users\\okaza\\pythonenv\\lf\\anim_rawdata\\.cache\n",
      "DEBUG      2025-06-27 17:06:36,463 [388102471.py:73] [Activate log]: c:\\Users\\okaza\\pythonenv\\lf\\anim_rawdata\\.cache\\notebook.log\n",
      "DEBUG      2025-06-27 17:06:36,464 [388102471.py:77] [Create global variable]: data\n"
     ]
    }
   ],
   "source": [
    "\"\"\"環境\"\"\"\n",
    "# .lab\n",
    "\n",
    "\"\"\"更新履歴\"\"\"\n",
    "# 最終更新日：2025/05/21\n",
    "# 2025/05/21 shutilを使って、cachedirを洗浄することにしました\n",
    "# 2025/05/15 simple_progress_barおよびdata(dict)を使い始めました。\n",
    "# 2025/02/25 os.getcwd()を採用し、__file__を定義する必要をなくしました。\n",
    "\n",
    "\"\"\"モジュール読み込み\"\"\"\n",
    "# ファイル操作等\n",
    "import sys\n",
    "import os\n",
    "# from datetime import datetime\n",
    "from pprint import pprint\n",
    "import logging\n",
    "# import pickle\n",
    "# import struct\n",
    "from tqdm import tqdm\n",
    "import h5py\n",
    "# import threading\n",
    "import json\n",
    "\n",
    "# tkinter\n",
    "from tkinter import filedialog, messagebox, Tk\n",
    "\n",
    "# データ分析ツール\n",
    "import pandas as pd\n",
    "import numpy as np\n",
    "import scipy as sp\n",
    "# import math\n",
    "# from sklearn.linear_model import LinearRegression\n",
    "\n",
    "# グラフ等作成用\n",
    "import matplotlib\n",
    "import matplotlib.pyplot as plt         # 図の作成用\n",
    "from PIL import Image as im\n",
    "# import cv2\n",
    "from IPython.display import display, HTML, clear_output, update_display, Image\n",
    "\n",
    "# 自作モジュール\n",
    "sys.path.append(r\"C:\\Users\\okaza\\pythonenv\")\n",
    "from modules.Mytools.Tools import print_fileinfo, h5_tree, dict_tree, simple_progress_bar, clean_cache_except_logfiles, get_total_size\n",
    "import modules.Mytools.Settings\n",
    "import modules.fitXRD as fx\n",
    "from modules.peakfit import peakfit, pseudoVoigt\n",
    "\n",
    "\"\"\"ログ管理ツール作成\"\"\"\n",
    "# chche directoryの設定\n",
    "cachedir = os.path.abspath(os.getcwd() + \"/.cache\")\n",
    "clean_cache_except_logfiles(cachedir)\n",
    "os.makedirs(cachedir, exist_ok=True)\n",
    "\n",
    "# loggerの作成\n",
    "logger = logging.getLogger(__name__)\n",
    "logger.setLevel(logging.DEBUG)\n",
    "format = \"%(levelname)-9s  %(asctime)s [%(filename)s:%(lineno)d] %(message)s\"\n",
    "\n",
    "# Streamハンドラクラスを作成\n",
    "sh = logging.StreamHandler()\n",
    "sh.setLevel(logging.DEBUG)\n",
    "sh.setFormatter(logging.Formatter(format))\n",
    "logger.addHandler(sh)\n",
    "\n",
    "# Fileハンドラクラスをインスタンス化\n",
    "logfile = cachedir + \"\"\n",
    "fh = logging.FileHandler(filename=cachedir + \"/notebook.log\", encoding=\"utf-8\")\n",
    "fh.setLevel(logging.DEBUG)\n",
    "fh.setFormatter(logging.Formatter(format))\n",
    "logger.addHandler(fh)\n",
    "logger.debug(\"[Activate workspace]: \" + os.getcwd())\n",
    "logger.debug(\"[Set cache]: \"+ os.path.abspath(cachedir))\n",
    "logger.debug(\"[Activate log]: \" + os.path.abspath(cachedir + \"/notebook.log\"))\n",
    "\n",
    "# globalなデータを作成\n",
    "data = dict()\n",
    "logger.debug(\"[Create global variable]: data\")"
   ]
  },
  {
   "cell_type": "markdown",
   "id": "33ad60b5",
   "metadata": {},
   "source": [
    "## 目的"
   ]
  },
  {
   "cell_type": "markdown",
   "id": "9f560d34",
   "metadata": {},
   "source": [
    "生データをアニメーションでまとめます。"
   ]
  },
  {
   "cell_type": "markdown",
   "id": "6fa3af8d",
   "metadata": {},
   "source": [
    "## 1. データ読み込み"
   ]
  },
  {
   "cell_type": "markdown",
   "id": "8a7df5ae",
   "metadata": {},
   "source": [
    "speファイルを読み込みます。"
   ]
  },
  {
   "cell_type": "code",
   "execution_count": 3,
   "id": "0236c06b",
   "metadata": {},
   "outputs": [],
   "source": [
    "from modules.SpeReadPy.read_spe import SpeReference"
   ]
  },
  {
   "cell_type": "code",
   "execution_count": 4,
   "id": "cf170942",
   "metadata": {},
   "outputs": [
    {
     "name": "stderr",
     "output_type": "stream",
     "text": [
      "INFO       2025-06-27 17:06:45,416 [3739853959.py:9] [File]: C:\\Users\\okaza\\Box\\DataStrorage\\SPring8-2024-10\\Okazaki\\mDIH05_0028\\mDAC_03  29.spe\n",
      "INFO       2025-06-27 17:06:46,127 [3739853959.py:16] [Add variables]: read_spe (data = 363.96 MB)\n"
     ]
    },
    {
     "name": "stdout",
     "output_type": "stream",
     "text": [
      "\n",
      "└── read_spe\n",
      "    ├── data <class 'numpy.ndarray'> [shape = (89, 400, 1340)]\n",
      "    └── wavelength <class 'numpy.ndarray'> [shape = (1340,)]"
     ]
    }
   ],
   "source": [
    "def read_spe():\n",
    "\n",
    "    # spe生データ\n",
    "    spefile = r\"C:\\Users\\okaza\\Box\\DataStrorage\\SPring8-2024-10\\Okazaki\\mDIH05_0028\\mDAC_03  29.spe\"\n",
    "\n",
    "    if True: # [ Main ]\n",
    "        # データ読み込み\n",
    "        spe = SpeReference(spefile)\n",
    "        logger.info(\"[File]: \" + os.path.abspath(spefile))\n",
    "\n",
    "        # データ格納\n",
    "        key = sys._getframe().f_code.co_name\n",
    "        data[key] = dict()\n",
    "        data[key][\"data\"] = spe.get_data()[0]\n",
    "        data[key][\"wavelength\"] = spe.get_wavelengths()[0]\n",
    "        logger.info(\"[Add variables]: {} (data = {:.2f} MB)\".format(key, float(get_total_size(data))/1024/1024))\n",
    "        dict_tree(data)\n",
    "\n",
    "    return\n",
    "read_spe()\n",
    "del read_spe"
   ]
  },
  {
   "cell_type": "markdown",
   "id": "58857152",
   "metadata": {},
   "source": [
    "## 2. 動画作成"
   ]
  },
  {
   "cell_type": "code",
   "execution_count": 5,
   "id": "ef57d766",
   "metadata": {},
   "outputs": [],
   "source": [
    "from matplotlib import animation as anim"
   ]
  },
  {
   "cell_type": "code",
   "execution_count": 8,
   "id": "60f4a581",
   "metadata": {},
   "outputs": [
    {
     "name": "stdout",
     "output_type": "stream",
     "text": [
      "Progress: [■■■■■■■■■■■■■■■■■■■■■■■■■■■■■■----------]  76% (68/89) "
     ]
    },
    {
     "name": "stderr",
     "output_type": "stream",
     "text": [
      "DEBUG      2025-06-27 17:42:31,538 [4086732273.py:38] [Save]: Animation\n"
     ]
    },
    {
     "name": "stdout",
     "output_type": "stream",
     "text": [
      "Progress: [■■■■■■■■■■■■■■■■■■■■■■■■■■■■■■■■■■■■■■■■] 100% (89/89) \n"
     ]
    },
    {
     "name": "stderr",
     "output_type": "stream",
     "text": [
      "INFO       2025-06-27 17:43:06,678 [4086732273.py:42] [Save]: c:\\Users\\okaza\\pythonenv\\lf\\anim_rawdata\\.cache\\save_animation.mp4\n"
     ]
    }
   ],
   "source": [
    "def save_animation():\n",
    "    \n",
    "    # データ読み込み\n",
    "    intensities = data[\"read_spe\"][\"data\"]\n",
    "    wavelength = data[\"read_spe\"][\"wavelength\"]\n",
    "    n_frame = intensities.shape[0]\n",
    "    wavelengthlim = (wavelength[0], wavelength[-1])\n",
    "\n",
    "    # fig作成\n",
    "    fig, ax = plt.subplots()\n",
    "    fig.set_size_inches((6,4.5))\n",
    "    \n",
    "    # 上軸の作成\n",
    "    wax = ax.twiny()\n",
    "    wax.set_xlim(wavelengthlim)\n",
    "    wax.set_xlabel(\"Wavelength [nm]\", fontsize = 10)\n",
    "\n",
    "    # アニメーションの作成\n",
    "    ims = []\n",
    "    for i_frame in range(n_frame):\n",
    "        imshow = ax.imshow(\n",
    "            data[\"read_spe\"][\"data\"][i_frame],\n",
    "            aspect = \"auto\",\n",
    "            cmap=\"gray\"\n",
    "        )\n",
    "        text = ax.text(\n",
    "            0,\n",
    "            1.1,\n",
    "            \"frame = {:>4}\".format(i_frame),\n",
    "            transform = ax.transAxes,\n",
    "            fontsize = 10\n",
    "        )\n",
    "        ims.append([imshow, text])\n",
    "        simple_progress_bar(i_frame+1, n_frame)\n",
    "\n",
    "    # 保存\n",
    "    ani = anim.ArtistAnimation(fig, ims, interval = 300)\n",
    "    logger.debug(\"[Save]: Animation\")\n",
    "    key = sys._getframe().f_code.co_name\n",
    "    filename = cachedir + \"/{}.mp4\".format(key)\n",
    "    ani.save(filename, writer = \"ffmpeg\", fps = 10, dpi = 300)\n",
    "    logger.info(\"[Save]: \" + os.path.abspath(filename))\n",
    "    plt.close()\n",
    "\n",
    "    return\n",
    "save_animation()\n",
    "del save_animation"
   ]
  }
 ],
 "metadata": {
  "kernelspec": {
   "display_name": ".lab",
   "language": "python",
   "name": "python3"
  },
  "language_info": {
   "codemirror_mode": {
    "name": "ipython",
    "version": 3
   },
   "file_extension": ".py",
   "mimetype": "text/x-python",
   "name": "python",
   "nbconvert_exporter": "python",
   "pygments_lexer": "ipython3",
   "version": "3.13.3"
  }
 },
 "nbformat": 4,
 "nbformat_minor": 5
}
